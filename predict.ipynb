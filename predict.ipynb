{
  "nbformat": 4,
  "nbformat_minor": 0,
  "metadata": {
    "colab": {
      "provenance": [],
      "authorship_tag": "ABX9TyOSfZRmHT10xH+uqXSgQ9yx",
      "include_colab_link": true
    },
    "kernelspec": {
      "name": "python3",
      "display_name": "Python 3"
    },
    "language_info": {
      "name": "python"
    }
  },
  "cells": [
    {
      "cell_type": "markdown",
      "metadata": {
        "id": "view-in-github",
        "colab_type": "text"
      },
      "source": [
        "<a href=\"https://colab.research.google.com/github/ChinmaySN/customer-insurance-prediction/blob/main/predict.ipynb\" target=\"_parent\"><img src=\"https://colab.research.google.com/assets/colab-badge.svg\" alt=\"Open In Colab\"/></a>"
      ]
    },
    {
      "cell_type": "code",
      "execution_count": 10,
      "metadata": {
        "colab": {
          "base_uri": "https://localhost:8080/"
        },
        "id": "NefCC1zGr_4b",
        "outputId": "515d443d-7339-45b8-f857-3816e84dbbf6"
      },
      "outputs": [
        {
          "output_type": "stream",
          "name": "stdout",
          "text": [
            "Cloning into 'customer-insurance-prediction'...\n",
            "remote: Enumerating objects: 33, done.\u001b[K\n",
            "remote: Counting objects: 100% (33/33), done.\u001b[K\n",
            "remote: Compressing objects: 100% (32/32), done.\u001b[K\n",
            "remote: Total 33 (delta 7), reused 0 (delta 0), pack-reused 0 (from 0)\u001b[K\n",
            "Receiving objects: 100% (33/33), 5.75 MiB | 14.60 MiB/s, done.\n",
            "Resolving deltas: 100% (7/7), done.\n",
            "/content/customer-insurance-prediction/customer-insurance-prediction/customer-insurance-prediction/customer-insurance-prediction\n"
          ]
        }
      ],
      "source": [
        "!git clone https://github.com/ChinmaySN/customer-insurance-prediction.git\n",
        "%cd customer-insurance-prediction"
      ]
    },
    {
      "cell_type": "code",
      "source": [
        "import joblib\n",
        "import pandas as pd\n"
      ],
      "metadata": {
        "id": "s0Mfh48Jwfj_"
      },
      "execution_count": 11,
      "outputs": []
    },
    {
      "cell_type": "code",
      "source": [
        "scaler = joblib.load(\"scaler.pkl\")\n",
        "logistic_model = joblib.load(\"logistic_model.pkl\")\n",
        "knn_model = joblib.load(\"knn_model.pkl\")\n",
        "svm_model = joblib.load(\"svm_model.pkl\")\n",
        "decision_tree_model = joblib.load(\"decision_tree_model.pkl\")\n",
        "random_forest_model = joblib.load(\"random_forest_model.pkl\")\n"
      ],
      "metadata": {
        "id": "gfSREGyNsHRq"
      },
      "execution_count": 12,
      "outputs": []
    },
    {
      "cell_type": "code",
      "source": [
        "def predict_general(model, age, salary):\n",
        "    df = pd.DataFrame([[age, salary]], columns=[\"Age\", \"EstimatedSalary\"])\n",
        "    scaled = scaler.transform(df)\n",
        "    return \"Will Buy Insurance\" if model.predict(scaled)[0] == 1 else \"Will NOT Buy Insurance\"\n",
        "\n",
        "def logistic_predict(age, salary):\n",
        "    return predict_general(logistic_model, age, salary)\n",
        "\n",
        "def knn_predict(age, salary):\n",
        "    return predict_general(knn_model, age, salary)\n",
        "\n",
        "def svm_predict(age, salary):\n",
        "    return predict_general(svm_model, age, salary)\n",
        "\n",
        "def decision_tree_predict(age, salary):\n",
        "    return predict_general(decision_tree_model, age, salary)\n",
        "\n",
        "def random_forest_predict(age, salary):\n",
        "    return predict_general(random_forest_model, age, salary)\n"
      ],
      "metadata": {
        "id": "F-nt01JattxH"
      },
      "execution_count": 13,
      "outputs": []
    },
    {
      "cell_type": "code",
      "source": [
        "logistic_predict(25, 60000)"
      ],
      "metadata": {
        "colab": {
          "base_uri": "https://localhost:8080/",
          "height": 35
        },
        "id": "jM5cFh3iwvli",
        "outputId": "0aa7f957-3394-4a86-e84b-f0400e1f2593"
      },
      "execution_count": 14,
      "outputs": [
        {
          "output_type": "execute_result",
          "data": {
            "text/plain": [
              "'Will Buy Insurance'"
            ],
            "application/vnd.google.colaboratory.intrinsic+json": {
              "type": "string"
            }
          },
          "metadata": {},
          "execution_count": 14
        }
      ]
    },
    {
      "cell_type": "code",
      "source": [
        "random_forest_predict(30, 10000)"
      ],
      "metadata": {
        "colab": {
          "base_uri": "https://localhost:8080/",
          "height": 35
        },
        "id": "skveNPmBw0e4",
        "outputId": "e4f6acd7-2c3b-415b-ea31-e8c38be78032"
      },
      "execution_count": 20,
      "outputs": [
        {
          "output_type": "execute_result",
          "data": {
            "text/plain": [
              "'Will Buy Insurance'"
            ],
            "application/vnd.google.colaboratory.intrinsic+json": {
              "type": "string"
            }
          },
          "metadata": {},
          "execution_count": 20
        }
      ]
    },
    {
      "cell_type": "code",
      "source": [
        "knn_predict(18, 20000)"
      ],
      "metadata": {
        "colab": {
          "base_uri": "https://localhost:8080/",
          "height": 35
        },
        "id": "rNIL8wrvw3dk",
        "outputId": "29c1e1c6-a183-4e6a-e6de-436a8494a44d"
      },
      "execution_count": 21,
      "outputs": [
        {
          "output_type": "execute_result",
          "data": {
            "text/plain": [
              "'Will NOT Buy Insurance'"
            ],
            "application/vnd.google.colaboratory.intrinsic+json": {
              "type": "string"
            }
          },
          "metadata": {},
          "execution_count": 21
        }
      ]
    },
    {
      "cell_type": "code",
      "source": [],
      "metadata": {
        "id": "jQ_k7JXGw6dq"
      },
      "execution_count": null,
      "outputs": []
    }
  ]
}