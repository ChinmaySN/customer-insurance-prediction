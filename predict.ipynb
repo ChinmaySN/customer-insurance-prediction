{
  "nbformat": 4,
  "nbformat_minor": 0,
  "metadata": {
    "colab": {
      "provenance": [],
      "authorship_tag": "ABX9TyOCr6dqMadepJOfvf8kw0WO",
      "include_colab_link": true
    },
    "kernelspec": {
      "name": "python3",
      "display_name": "Python 3"
    },
    "language_info": {
      "name": "python"
    }
  },
  "cells": [
    {
      "cell_type": "markdown",
      "metadata": {
        "id": "view-in-github",
        "colab_type": "text"
      },
      "source": [
        "<a href=\"https://colab.research.google.com/github/ChinmaySN/customer-insurance-prediction/blob/main/predict.ipynb\" target=\"_parent\"><img src=\"https://colab.research.google.com/assets/colab-badge.svg\" alt=\"Open In Colab\"/></a>"
      ]
    },
    {
      "cell_type": "code",
      "execution_count": 1,
      "metadata": {
        "colab": {
          "base_uri": "https://localhost:8080/"
        },
        "id": "NefCC1zGr_4b",
        "outputId": "c2cf2fc1-6047-404c-873a-96dc7acdb14e"
      },
      "outputs": [
        {
          "output_type": "stream",
          "name": "stdout",
          "text": [
            "Cloning into 'customer-insurance-prediction'...\n",
            "remote: Enumerating objects: 48, done.\u001b[K\n",
            "remote: Counting objects: 100% (48/48), done.\u001b[K\n",
            "remote: Compressing objects: 100% (47/47), done.\u001b[K\n",
            "remote: Total 48 (delta 13), reused 0 (delta 0), pack-reused 0 (from 0)\u001b[K\n",
            "Receiving objects: 100% (48/48), 7.29 MiB | 14.33 MiB/s, done.\n",
            "Resolving deltas: 100% (13/13), done.\n",
            "/content/customer-insurance-prediction\n"
          ]
        }
      ],
      "source": [
        "!git clone https://github.com/ChinmaySN/customer-insurance-prediction.git\n",
        "%cd customer-insurance-prediction"
      ]
    },
    {
      "cell_type": "code",
      "source": [
        "import joblib\n",
        "import pandas as pd\n"
      ],
      "metadata": {
        "id": "s0Mfh48Jwfj_"
      },
      "execution_count": 2,
      "outputs": []
    },
    {
      "cell_type": "code",
      "source": [
        "scaler = joblib.load(\"scaler.pkl\")\n",
        "logistic_model = joblib.load(\"logistic_model.pkl\")\n",
        "knn_model = joblib.load(\"knn_model.pkl\")\n",
        "svm_model = joblib.load(\"svm_model.pkl\")\n",
        "decision_tree_model = joblib.load(\"decision_tree_model.pkl\")\n",
        "random_forest_model = joblib.load(\"random_forest_model.pkl\")\n"
      ],
      "metadata": {
        "id": "gfSREGyNsHRq"
      },
      "execution_count": 3,
      "outputs": []
    },
    {
      "cell_type": "code",
      "source": [
        "def predict_general(model, age, salary):\n",
        "    df = pd.DataFrame([[age, salary]], columns=[\"Age\", \"EstimatedSalary\"])\n",
        "    scaled = scaler.transform(df)\n",
        "    return \"Will Buy Insurance\" if model.predict(scaled)[0] == 1 else \"Will NOT Buy Insurance\"\n",
        "\n",
        "def logistic_predict(age, salary):\n",
        "    return predict_general(logistic_model, age, salary)\n",
        "\n",
        "def knn_predict(age, salary):\n",
        "    return predict_general(knn_model, age, salary)\n",
        "\n",
        "def svm_predict(age, salary):\n",
        "    return predict_general(svm_model, age, salary)\n",
        "\n",
        "def decision_tree_predict(age, salary):\n",
        "    return predict_general(decision_tree_model, age, salary)\n",
        "\n",
        "def random_forest_predict(age, salary):\n",
        "    return predict_general(random_forest_model, age, salary)\n"
      ],
      "metadata": {
        "id": "F-nt01JattxH"
      },
      "execution_count": 4,
      "outputs": []
    },
    {
      "cell_type": "code",
      "source": [
        "logistic_predict(25, 60000)"
      ],
      "metadata": {
        "colab": {
          "base_uri": "https://localhost:8080/",
          "height": 35
        },
        "id": "jM5cFh3iwvli",
        "outputId": "3cbcb235-8682-4701-9ed3-34b28ad2c9d0"
      },
      "execution_count": 5,
      "outputs": [
        {
          "output_type": "execute_result",
          "data": {
            "text/plain": [
              "'Will Buy Insurance'"
            ],
            "application/vnd.google.colaboratory.intrinsic+json": {
              "type": "string"
            }
          },
          "metadata": {},
          "execution_count": 5
        }
      ]
    },
    {
      "cell_type": "code",
      "source": [
        "random_forest_predict(30, 10000)"
      ],
      "metadata": {
        "colab": {
          "base_uri": "https://localhost:8080/",
          "height": 35
        },
        "id": "skveNPmBw0e4",
        "outputId": "38e1e78b-41af-487d-e5a1-52939c4f00e1"
      },
      "execution_count": 6,
      "outputs": [
        {
          "output_type": "execute_result",
          "data": {
            "text/plain": [
              "'Will Buy Insurance'"
            ],
            "application/vnd.google.colaboratory.intrinsic+json": {
              "type": "string"
            }
          },
          "metadata": {},
          "execution_count": 6
        }
      ]
    },
    {
      "cell_type": "code",
      "source": [
        "knn_predict(18, 20000)"
      ],
      "metadata": {
        "colab": {
          "base_uri": "https://localhost:8080/",
          "height": 35
        },
        "id": "rNIL8wrvw3dk",
        "outputId": "8a1ff545-2d15-4eee-8cd2-66391878d385"
      },
      "execution_count": 7,
      "outputs": [
        {
          "output_type": "execute_result",
          "data": {
            "text/plain": [
              "'Will NOT Buy Insurance'"
            ],
            "application/vnd.google.colaboratory.intrinsic+json": {
              "type": "string"
            }
          },
          "metadata": {},
          "execution_count": 7
        }
      ]
    },
    {
      "cell_type": "code",
      "source": [
        "decision_tree_predict(20, 10000)"
      ],
      "metadata": {
        "id": "jQ_k7JXGw6dq",
        "outputId": "8e641d88-5b8a-4682-d2c3-ef131e8e7358",
        "colab": {
          "base_uri": "https://localhost:8080/",
          "height": 35
        }
      },
      "execution_count": 8,
      "outputs": [
        {
          "output_type": "execute_result",
          "data": {
            "text/plain": [
              "'Will NOT Buy Insurance'"
            ],
            "application/vnd.google.colaboratory.intrinsic+json": {
              "type": "string"
            }
          },
          "metadata": {},
          "execution_count": 8
        }
      ]
    },
    {
      "cell_type": "code",
      "source": [
        "svm_predict(60, 0)"
      ],
      "metadata": {
        "id": "EHZIeR6a4jDo",
        "outputId": "6484f8cf-0778-4458-e90b-5c8e85c1df55",
        "colab": {
          "base_uri": "https://localhost:8080/",
          "height": 35
        }
      },
      "execution_count": 9,
      "outputs": [
        {
          "output_type": "execute_result",
          "data": {
            "text/plain": [
              "'Will NOT Buy Insurance'"
            ],
            "application/vnd.google.colaboratory.intrinsic+json": {
              "type": "string"
            }
          },
          "metadata": {},
          "execution_count": 9
        }
      ]
    },
    {
      "cell_type": "code",
      "source": [],
      "metadata": {
        "id": "w9l-3KrI4md0"
      },
      "execution_count": null,
      "outputs": []
    }
  ]
}